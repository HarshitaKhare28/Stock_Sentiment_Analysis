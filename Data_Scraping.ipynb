{
  "cells": [
    {
      "cell_type": "code",
      "execution_count": 8,
      "metadata": {
        "colab": {
          "base_uri": "https://localhost:8080/",
          "height": 404
        },
        "id": "myL4ufqonl2F",
        "outputId": "0d8787ae-808c-4dce-e754-b4762436347d"
      },
      "outputs": [
        {
          "name": "stdout",
          "output_type": "stream",
          "text": [
            "                                                Title   Score  \\\n",
            "0                       GME YOLO update — Jan 28 2021  300568   \n",
            "1                GME YOLO month-end update — Jan 2021  264712   \n",
            "2                       GME YOLO update — Feb 19 2021  224578   \n",
            "3   GME YOLO update — Jan 27 2021 ----------------...  218660   \n",
            "4                        GME YOLO update — Feb 1 2021  217468   \n",
            "..                                                ...     ...   \n",
            "83  Been an AMC employee for 5+ years, so thanks f...   53031   \n",
            "84                   $GME shorties yesterday vs today   52245   \n",
            "85  Bill Gross is short GME. Selling $250 and $300...   52195   \n",
            "86  Volume is low. Don’t believe the news. No one ...   50539   \n",
            "87  The SEC Just posted the new numbers for Failur...   49446   \n",
            "\n",
            "                                                  URL  Comments  Sentiment  \n",
            "0                 https://i.redd.it/opzucppb15e61.png     23030     0.4278  \n",
            "1                 https://i.redd.it/r557em3t5ce61.png     19912     0.4278  \n",
            "2                 https://i.redd.it/2xswz0h11ii61.png     12894     0.4278  \n",
            "3                 https://i.redd.it/a309gkm5yxd61.png     14657     0.4278  \n",
            "4                 https://i.redd.it/og8ca1xskxe61.png     18067     0.4278  \n",
            "..                                                ...       ...        ...  \n",
            "83                https://i.redd.it/g7eeiqkzkxe61.png      1140     0.5777  \n",
            "84                https://i.redd.it/tc9lwshci7p61.gif      1087     0.0000  \n",
            "85                https://i.redd.it/pqnbbr0z2gn61.jpg      2341    -0.4767  \n",
            "86                https://i.redd.it/q3xpvdnn4xe61.jpg      2478    -0.5106  \n",
            "87  https://www.reddit.com/r/wallstreetbets/commen...      3424    -0.7650  \n",
            "\n",
            "[88 rows x 5 columns]\n",
            "CSV file saved successfully!\n"
          ]
        }
      ],
      "source": [
        "import pandas as pd\n",
        "import praw\n",
        "from vaderSentiment.vaderSentiment import SentimentIntensityAnalyzer\n",
        "from config import client_id, client_secret\n",
        "\n",
        "# Reddit API credentials\n",
        "reddit = praw.Reddit(\n",
        "    client_id=client_id,       \n",
        "    client_secret=client_secret, \n",
        "    user_agent='StockSentimentAnalysis'      \n",
        ")\n",
        "\n",
        "# subreddit to be scraped\n",
        "subreddit = reddit.subreddit('wallstreetbets')  \n",
        "\n",
        "# Initialized VADER sentiment analyzer\n",
        "analyzer = SentimentIntensityAnalyzer()\n",
        "\n",
        "# List of stock tickers to filter posts by\n",
        "tickers = ['GME', 'AMC', 'TSLA', 'AAPL', 'MSFT']  \n",
        "\n",
        "# Scraped top 500 posts related to specific stock tickers\n",
        "posts = []\n",
        "for post in subreddit.top(limit=500):  \n",
        "    if any(ticker in post.title for ticker in tickers): \n",
        "        sentiment = analyzer.polarity_scores(post.title)['compound']\n",
        "\n",
        "        # Appended post data to the list \n",
        "        posts.append([post.title, post.score, post.url, post.num_comments, sentiment])\n",
        "\n",
        "# Stored the scraped data in a DataFrame\n",
        "df = pd.DataFrame(posts, columns=['Title', 'Score', 'URL', 'Comments', 'Sentiment'])\n",
        "\n",
        "print(df)\n",
        "df.to_csv('C:/Users/harsh/OneDrive/Documents/Reddit_Stock_Sentiment_Data.csv', index=False)\n",
        "print(\"CSV file saved successfully!\")"
      ]
    }
  ],
  "metadata": {
    "colab": {
      "provenance": []
    },
    "kernelspec": {
      "display_name": "Python 3",
      "name": "python3"
    },
    "language_info": {
      "codemirror_mode": {
        "name": "ipython",
        "version": 3
      },
      "file_extension": ".py",
      "mimetype": "text/x-python",
      "name": "python",
      "nbconvert_exporter": "python",
      "pygments_lexer": "ipython3",
      "version": "3.12.6"
    }
  },
  "nbformat": 4,
  "nbformat_minor": 0
}
